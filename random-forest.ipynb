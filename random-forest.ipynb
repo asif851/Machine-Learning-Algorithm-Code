{
 "cells": [
  {
   "cell_type": "code",
   "execution_count": 1,
   "metadata": {},
   "outputs": [
    {
     "name": "stdout",
     "output_type": "stream",
     "text": [
      "   Book_ID  Pages  Borrowed_Times  Popular  Genre_History  Genre_Science\n",
      "0        1    491              14        1          False           True\n",
      "1        2    397              10        0          False          False\n",
      "2        3    374              13        0          False          False\n",
      "3        4    214              14        1           True          False\n",
      "4        5    371              14        0          False           True\n",
      "Random Forest Accuracy: 1.00\n"
     ]
    }
   ],
   "source": [
    "import pandas as pd\n",
    "import numpy as np\n",
    "from sklearn.model_selection import train_test_split\n",
    "from sklearn.ensemble import RandomForestClassifier\n",
    "from sklearn.metrics import accuracy_score\n",
    "\n",
    "# Load dataset (replace with an actual library dataset if available)\n",
    "data = {\n",
    "    'Book_ID': np.arange(1, 11),\n",
    "    'Pages': np.random.randint(100, 500, 10),\n",
    "    'Genre': np.random.choice(['Fiction', 'Non-Fiction', 'Science', 'History'], 10),\n",
    "    'Borrowed_Times': np.random.randint(1, 20, 10),\n",
    "    'Popular': np.random.choice([0, 1], 10)  # Target: 1 if popular, 0 if not\n",
    "}\n",
    "\n",
    "# Convert to DataFrame\n",
    "df = pd.DataFrame(data)\n",
    "\n",
    "# Convert categorical column 'Genre' to numerical\n",
    "df = pd.get_dummies(df, columns=['Genre'], drop_first=True)\n",
    "\n",
    "# Display first few rows\n",
    "print(df.head())\n",
    "\n",
    "# Split features and target variable\n",
    "X = df.drop(columns=['Book_ID', 'Popular'])  # Book_ID is irrelevant\n",
    "y = df['Popular']\n",
    "\n",
    "# Train-test split\n",
    "X_train, X_test, y_train, y_test = train_test_split(X, y, test_size=0.2, random_state=42)\n",
    "\n",
    "# Initialize and train Random Forest model\n",
    "rf = RandomForestClassifier(n_estimators=100, random_state=42)\n",
    "rf.fit(X_train, y_train)\n",
    "\n",
    "# Predict and evaluate\n",
    "y_pred = rf.predict(X_test)\n",
    "accuracy = accuracy_score(y_test, y_pred)\n",
    "print(f\"Random Forest Accuracy: {accuracy:.2f}\")\n"
   ]
  }
 ],
 "metadata": {
  "kernelspec": {
   "display_name": "Python 3",
   "language": "python",
   "name": "python3"
  },
  "language_info": {
   "codemirror_mode": {
    "name": "ipython",
    "version": 3
   },
   "file_extension": ".py",
   "mimetype": "text/x-python",
   "name": "python",
   "nbconvert_exporter": "python",
   "pygments_lexer": "ipython3",
   "version": "3.12.7"
  }
 },
 "nbformat": 4,
 "nbformat_minor": 2
}
